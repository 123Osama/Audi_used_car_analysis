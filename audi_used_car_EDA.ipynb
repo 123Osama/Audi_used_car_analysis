{
 "cells": [
  {
   "cell_type": "code",
   "execution_count": 1,
   "id": "5747201a",
   "metadata": {},
   "outputs": [],
   "source": [
    "import pandas as pd\n",
    "import numpy as np\n",
    "import matplotlib.pyplot as plt\n",
    "import seaborn as sns"
   ]
  },
  {
   "cell_type": "code",
   "execution_count": 2,
   "id": "31c0bfac",
   "metadata": {},
   "outputs": [
    {
     "data": {
      "text/html": [
       "<div>\n",
       "<style scoped>\n",
       "    .dataframe tbody tr th:only-of-type {\n",
       "        vertical-align: middle;\n",
       "    }\n",
       "\n",
       "    .dataframe tbody tr th {\n",
       "        vertical-align: top;\n",
       "    }\n",
       "\n",
       "    .dataframe thead th {\n",
       "        text-align: right;\n",
       "    }\n",
       "</style>\n",
       "<table border=\"1\" class=\"dataframe\">\n",
       "  <thead>\n",
       "    <tr style=\"text-align: right;\">\n",
       "      <th></th>\n",
       "      <th>model</th>\n",
       "      <th>year</th>\n",
       "      <th>price</th>\n",
       "      <th>transmission</th>\n",
       "      <th>mileage</th>\n",
       "      <th>fuelType</th>\n",
       "      <th>mpg</th>\n",
       "      <th>engineSize</th>\n",
       "    </tr>\n",
       "  </thead>\n",
       "  <tbody>\n",
       "    <tr>\n",
       "      <th>0</th>\n",
       "      <td>A1</td>\n",
       "      <td>2017</td>\n",
       "      <td>12500</td>\n",
       "      <td>Manual</td>\n",
       "      <td>15735</td>\n",
       "      <td>Petrol</td>\n",
       "      <td>55.4</td>\n",
       "      <td>1.4</td>\n",
       "    </tr>\n",
       "    <tr>\n",
       "      <th>1</th>\n",
       "      <td>A6</td>\n",
       "      <td>2016</td>\n",
       "      <td>16500</td>\n",
       "      <td>Automatic</td>\n",
       "      <td>36203</td>\n",
       "      <td>Diesel</td>\n",
       "      <td>64.2</td>\n",
       "      <td>2.0</td>\n",
       "    </tr>\n",
       "    <tr>\n",
       "      <th>2</th>\n",
       "      <td>A1</td>\n",
       "      <td>2016</td>\n",
       "      <td>11000</td>\n",
       "      <td>Manual</td>\n",
       "      <td>29946</td>\n",
       "      <td>Petrol</td>\n",
       "      <td>55.4</td>\n",
       "      <td>1.4</td>\n",
       "    </tr>\n",
       "    <tr>\n",
       "      <th>3</th>\n",
       "      <td>A4</td>\n",
       "      <td>2017</td>\n",
       "      <td>16800</td>\n",
       "      <td>Automatic</td>\n",
       "      <td>25952</td>\n",
       "      <td>Diesel</td>\n",
       "      <td>67.3</td>\n",
       "      <td>2.0</td>\n",
       "    </tr>\n",
       "    <tr>\n",
       "      <th>4</th>\n",
       "      <td>A3</td>\n",
       "      <td>2019</td>\n",
       "      <td>17300</td>\n",
       "      <td>Manual</td>\n",
       "      <td>1998</td>\n",
       "      <td>Petrol</td>\n",
       "      <td>49.6</td>\n",
       "      <td>1.0</td>\n",
       "    </tr>\n",
       "    <tr>\n",
       "      <th>...</th>\n",
       "      <td>...</td>\n",
       "      <td>...</td>\n",
       "      <td>...</td>\n",
       "      <td>...</td>\n",
       "      <td>...</td>\n",
       "      <td>...</td>\n",
       "      <td>...</td>\n",
       "      <td>...</td>\n",
       "    </tr>\n",
       "    <tr>\n",
       "      <th>10663</th>\n",
       "      <td>A3</td>\n",
       "      <td>2020</td>\n",
       "      <td>16999</td>\n",
       "      <td>Manual</td>\n",
       "      <td>4018</td>\n",
       "      <td>Petrol</td>\n",
       "      <td>49.6</td>\n",
       "      <td>1.0</td>\n",
       "    </tr>\n",
       "    <tr>\n",
       "      <th>10664</th>\n",
       "      <td>A3</td>\n",
       "      <td>2020</td>\n",
       "      <td>16999</td>\n",
       "      <td>Manual</td>\n",
       "      <td>1978</td>\n",
       "      <td>Petrol</td>\n",
       "      <td>49.6</td>\n",
       "      <td>1.0</td>\n",
       "    </tr>\n",
       "    <tr>\n",
       "      <th>10665</th>\n",
       "      <td>A3</td>\n",
       "      <td>2020</td>\n",
       "      <td>17199</td>\n",
       "      <td>Manual</td>\n",
       "      <td>609</td>\n",
       "      <td>Petrol</td>\n",
       "      <td>49.6</td>\n",
       "      <td>1.0</td>\n",
       "    </tr>\n",
       "    <tr>\n",
       "      <th>10666</th>\n",
       "      <td>Q3</td>\n",
       "      <td>2017</td>\n",
       "      <td>19499</td>\n",
       "      <td>Automatic</td>\n",
       "      <td>8646</td>\n",
       "      <td>Petrol</td>\n",
       "      <td>47.9</td>\n",
       "      <td>1.4</td>\n",
       "    </tr>\n",
       "    <tr>\n",
       "      <th>10667</th>\n",
       "      <td>Q3</td>\n",
       "      <td>2016</td>\n",
       "      <td>15999</td>\n",
       "      <td>Manual</td>\n",
       "      <td>11855</td>\n",
       "      <td>Petrol</td>\n",
       "      <td>47.9</td>\n",
       "      <td>1.4</td>\n",
       "    </tr>\n",
       "  </tbody>\n",
       "</table>\n",
       "<p>10668 rows × 8 columns</p>\n",
       "</div>"
      ],
      "text/plain": [
       "      model  year  price transmission  mileage fuelType   mpg  engineSize\n",
       "0        A1  2017  12500       Manual    15735   Petrol  55.4         1.4\n",
       "1        A6  2016  16500    Automatic    36203   Diesel  64.2         2.0\n",
       "2        A1  2016  11000       Manual    29946   Petrol  55.4         1.4\n",
       "3        A4  2017  16800    Automatic    25952   Diesel  67.3         2.0\n",
       "4        A3  2019  17300       Manual     1998   Petrol  49.6         1.0\n",
       "...     ...   ...    ...          ...      ...      ...   ...         ...\n",
       "10663    A3  2020  16999       Manual     4018   Petrol  49.6         1.0\n",
       "10664    A3  2020  16999       Manual     1978   Petrol  49.6         1.0\n",
       "10665    A3  2020  17199       Manual      609   Petrol  49.6         1.0\n",
       "10666    Q3  2017  19499    Automatic     8646   Petrol  47.9         1.4\n",
       "10667    Q3  2016  15999       Manual    11855   Petrol  47.9         1.4\n",
       "\n",
       "[10668 rows x 8 columns]"
      ]
     },
     "metadata": {},
     "output_type": "display_data"
    }
   ],
   "source": [
    "df = pd.read_csv(\"audi.csv\")\n",
    "\n",
    "display(df)"
   ]
  },
  {
   "cell_type": "code",
   "execution_count": 3,
   "id": "153c36af",
   "metadata": {},
   "outputs": [
    {
     "name": "stdout",
     "output_type": "stream",
     "text": [
      "<class 'pandas.core.frame.DataFrame'>\n",
      "RangeIndex: 10668 entries, 0 to 10667\n",
      "Data columns (total 8 columns):\n",
      " #   Column        Non-Null Count  Dtype  \n",
      "---  ------        --------------  -----  \n",
      " 0   model         10668 non-null  object \n",
      " 1   year          10668 non-null  int64  \n",
      " 2   price         10668 non-null  int64  \n",
      " 3   transmission  10668 non-null  object \n",
      " 4   mileage       10668 non-null  int64  \n",
      " 5   fuelType      10668 non-null  object \n",
      " 6   mpg           10668 non-null  float64\n",
      " 7   engineSize    10668 non-null  float64\n",
      "dtypes: float64(2), int64(3), object(3)\n",
      "memory usage: 666.9+ KB\n"
     ]
    },
    {
     "data": {
      "text/plain": [
       "None"
      ]
     },
     "metadata": {},
     "output_type": "display_data"
    }
   ],
   "source": [
    "display(df.info())"
   ]
  },
  {
   "cell_type": "code",
   "execution_count": 4,
   "id": "9cfd19ac",
   "metadata": {},
   "outputs": [
    {
     "data": {
      "text/plain": [
       "2019    3197\n",
       "2016    1964\n",
       "2017    1935\n",
       "2015     999\n",
       "2018     864\n",
       "2020     716\n",
       "2014     447\n",
       "2013     291\n",
       "2012      85\n",
       "2011      47\n",
       "2010      32\n",
       "2009      23\n",
       "2008      21\n",
       "2007      16\n",
       "2006       9\n",
       "2005       7\n",
       "2003       6\n",
       "2004       5\n",
       "2002       2\n",
       "1997       1\n",
       "1998       1\n",
       "Name: year, dtype: int64"
      ]
     },
     "metadata": {},
     "output_type": "display_data"
    }
   ],
   "source": [
    "year_count = df['year'].value_counts()\n",
    "display(year_count)"
   ]
  },
  {
   "cell_type": "code",
   "execution_count": 5,
   "id": "298dbd88",
   "metadata": {},
   "outputs": [
    {
     "data": {
      "text/plain": [
       " A3     1929\n",
       " Q3     1417\n",
       " A4     1381\n",
       " A1     1347\n",
       " A5      882\n",
       " Q5      877\n",
       " Q2      822\n",
       " A6      748\n",
       " Q7      397\n",
       " TT      336\n",
       " A7      122\n",
       " A8      118\n",
       " Q8       69\n",
       " RS6      39\n",
       " RS3      33\n",
       " RS4      31\n",
       " RS5      29\n",
       " R8       28\n",
       " S3       18\n",
       " SQ5      16\n",
       " S4       12\n",
       " SQ7       8\n",
       " S8        4\n",
       " S5        3\n",
       " A2        1\n",
       " RS7       1\n",
       "Name: model, dtype: int64"
      ]
     },
     "metadata": {},
     "output_type": "display_data"
    }
   ],
   "source": [
    "model_count = df['model'].value_counts()\n",
    "display(model_count)"
   ]
  },
  {
   "cell_type": "code",
   "execution_count": 6,
   "id": "016f34a4",
   "metadata": {},
   "outputs": [
    {
     "data": {
      "text/plain": [
       "Manual       4369\n",
       "Semi-Auto    3591\n",
       "Automatic    2708\n",
       "Name: transmission, dtype: int64"
      ]
     },
     "metadata": {},
     "output_type": "display_data"
    }
   ],
   "source": [
    "transmission_count = df['transmission'].value_counts()\n",
    "display(transmission_count)"
   ]
  },
  {
   "cell_type": "code",
   "execution_count": 7,
   "id": "85abaa3c",
   "metadata": {},
   "outputs": [
    {
     "data": {
      "text/plain": [
       "Diesel    5577\n",
       "Petrol    5063\n",
       "Hybrid      28\n",
       "Name: fuelType, dtype: int64"
      ]
     },
     "metadata": {},
     "output_type": "display_data"
    }
   ],
   "source": [
    "fuelType_count = df['fuelType'].value_counts()\n",
    "display(fuelType_count)"
   ]
  },
  {
   "cell_type": "code",
   "execution_count": 12,
   "id": "ca5dd015",
   "metadata": {},
   "outputs": [
    {
     "data": {
      "text/html": [
       "<div>\n",
       "<style scoped>\n",
       "    .dataframe tbody tr th:only-of-type {\n",
       "        vertical-align: middle;\n",
       "    }\n",
       "\n",
       "    .dataframe tbody tr th {\n",
       "        vertical-align: top;\n",
       "    }\n",
       "\n",
       "    .dataframe thead th {\n",
       "        text-align: right;\n",
       "    }\n",
       "</style>\n",
       "<table border=\"1\" class=\"dataframe\">\n",
       "  <thead>\n",
       "    <tr style=\"text-align: right;\">\n",
       "      <th></th>\n",
       "      <th>fuel_type</th>\n",
       "      <th>No_of_cars</th>\n",
       "      <th>% of cars</th>\n",
       "    </tr>\n",
       "  </thead>\n",
       "  <tbody>\n",
       "    <tr>\n",
       "      <th>0</th>\n",
       "      <td>Diesel</td>\n",
       "      <td>5577</td>\n",
       "      <td>52.28</td>\n",
       "    </tr>\n",
       "    <tr>\n",
       "      <th>1</th>\n",
       "      <td>Petrol</td>\n",
       "      <td>5063</td>\n",
       "      <td>47.46</td>\n",
       "    </tr>\n",
       "    <tr>\n",
       "      <th>2</th>\n",
       "      <td>Hybrid</td>\n",
       "      <td>28</td>\n",
       "      <td>0.26</td>\n",
       "    </tr>\n",
       "  </tbody>\n",
       "</table>\n",
       "</div>"
      ],
      "text/plain": [
       "  fuel_type  No_of_cars  % of cars\n",
       "0    Diesel        5577      52.28\n",
       "1    Petrol        5063      47.46\n",
       "2    Hybrid          28       0.26"
      ]
     },
     "metadata": {},
     "output_type": "display_data"
    }
   ],
   "source": [
    "fuelType_count = df['fuelType'].value_counts()\n",
    "# print(type(fuelType_count))\n",
    "\n",
    "fuelType_count = pd.DataFrame(fuelType_count)\n",
    "# display(fuelType_count)\n",
    "\n",
    "fuelType_count = fuelType_count.reset_index()\n",
    "# display(fuelType_count)\n",
    "\n",
    "fuelType_count = fuelType_count.rename(columns={'index':'fuel_type', 'fuelType':'No_of_cars'})\n",
    "# display(fuelType_count)\n",
    "\n",
    "# print(fuelType_count['No_of_cars'].sum())\n",
    "\n",
    "fuelType_count['% of cars'] = np.round(((fuelType_count['No_of_cars']/fuelType_count['No_of_cars'].sum())*100), 2)\n",
    "display(fuelType_count)\n",
    "\n",
    "# print(type(fuelType_count))"
   ]
  },
  {
   "cell_type": "code",
   "execution_count": 14,
   "id": "55a8d3b1",
   "metadata": {},
   "outputs": [
    {
     "data": {
      "image/png": "[encoded data removed]",
      "text/plain": [
       "<Figure size 432x288 with 1 Axes>"
      ]
     },
     "metadata": {
      "needs_background": "light"
     },
     "output_type": "display_data"
    }
   ],
   "source": [
    "sns.barplot(x='fuel_type', y='No_of_cars', data=fuelType_count, color='green', alpha=0.75)\n",
    "plt.title(\"Number of cars present for each fuelType\")\n",
    "plt.xlabel(\"Type of fuel\")\n",
    "plt.ylabel(\"Number of cars\")\n",
    "# plt.grid()\n",
    "plt.show()"
   ]
  },
  {
   "cell_type": "code",
   "execution_count": 15,
   "id": "7b509879",
   "metadata": {},
   "outputs": [
    {
     "data": {
      "text/html": [
       "<div>\n",
       "<style scoped>\n",
       "    .dataframe tbody tr th:only-of-type {\n",
       "        vertical-align: middle;\n",
       "    }\n",
       "\n",
       "    .dataframe tbody tr th {\n",
       "        vertical-align: top;\n",
       "    }\n",
       "\n",
       "    .dataframe thead th {\n",
       "        text-align: right;\n",
       "    }\n",
       "</style>\n",
       "<table border=\"1\" class=\"dataframe\">\n",
       "  <thead>\n",
       "    <tr style=\"text-align: right;\">\n",
       "      <th></th>\n",
       "      <th>transmission</th>\n",
       "      <th>No_of_cars</th>\n",
       "      <th>% of cars</th>\n",
       "    </tr>\n",
       "  </thead>\n",
       "  <tbody>\n",
       "    <tr>\n",
       "      <th>0</th>\n",
       "      <td>Manual</td>\n",
       "      <td>4369</td>\n",
       "      <td>40.95</td>\n",
       "    </tr>\n",
       "    <tr>\n",
       "      <th>1</th>\n",
       "      <td>Semi-Auto</td>\n",
       "      <td>3591</td>\n",
       "      <td>33.66</td>\n",
       "    </tr>\n",
       "    <tr>\n",
       "      <th>2</th>\n",
       "      <td>Automatic</td>\n",
       "      <td>2708</td>\n",
       "      <td>25.38</td>\n",
       "    </tr>\n",
       "  </tbody>\n",
       "</table>\n",
       "</div>"
      ],
      "text/plain": [
       "  transmission  No_of_cars  % of cars\n",
       "0       Manual        4369      40.95\n",
       "1    Semi-Auto        3591      33.66\n",
       "2    Automatic        2708      25.38"
      ]
     },
     "metadata": {},
     "output_type": "display_data"
    }
   ],
   "source": [
    "transmission_count = df['transmission'].value_counts()\n",
    "# print(type(transmission_count))\n",
    "\n",
    "transmission_count = pd.DataFrame(transmission_count)\n",
    "# display(transmission_count)\n",
    "\n",
    "transmission_count = transmission_count.reset_index()\n",
    "# display(transmission_count)\n",
    "\n",
    "transmission_count = transmission_count.rename(columns={'index':'transmission', 'transmission':'No_of_cars'})\n",
    "# display(transmission_count)\n",
    "\n",
    "# print(transmission_count['No_of_cars'].sum())\n",
    "\n",
    "transmission_count['% of cars'] = np.round(((transmission_count['No_of_cars']/transmission_count['No_of_cars'].sum())*100), 2)\n",
    "display(transmission_count)\n",
    "\n",
    "# print(type(transmission_count))"
   ]
  },
  {
   "cell_type": "code",
   "execution_count": 17,
   "id": "5a7063a0",
   "metadata": {},
   "outputs": [
    {
     "data": {
      "image/png": "[encoded data removed]",
      "text/plain": [
       "<Figure size 432x288 with 1 Axes>"
      ]
     },
     "metadata": {
      "needs_background": "light"
     },
     "output_type": "display_data"
    }
   ],
   "source": [
    "sns.barplot(x='transmission', y='No_of_cars', data=transmission_count, color='green', alpha=0.75)\n",
    "plt.title(\"Number of cars present for each transmission type\")\n",
    "plt.xlabel(\"Type of transmission\")\n",
    "plt.ylabel(\"Number of cars\")\n",
    "plt.show()"
   ]
  },
  {
   "cell_type": "code",
   "execution_count": 18,
   "id": "101a3bb3",
   "metadata": {},
   "outputs": [
    {
     "data": {
      "text/html": [
       "<div>\n",
       "<style scoped>\n",
       "    .dataframe tbody tr th:only-of-type {\n",
       "        vertical-align: middle;\n",
       "    }\n",
       "\n",
       "    .dataframe tbody tr th {\n",
       "        vertical-align: top;\n",
       "    }\n",
       "\n",
       "    .dataframe thead th {\n",
       "        text-align: right;\n",
       "    }\n",
       "</style>\n",
       "<table border=\"1\" class=\"dataframe\">\n",
       "  <thead>\n",
       "    <tr style=\"text-align: right;\">\n",
       "      <th></th>\n",
       "      <th>model</th>\n",
       "      <th>No_of_cars</th>\n",
       "      <th>% of cars</th>\n",
       "    </tr>\n",
       "  </thead>\n",
       "  <tbody>\n",
       "    <tr>\n",
       "      <th>0</th>\n",
       "      <td>A3</td>\n",
       "      <td>1929</td>\n",
       "      <td>18.08</td>\n",
       "    </tr>\n",
       "    <tr>\n",
       "      <th>1</th>\n",
       "      <td>Q3</td>\n",
       "      <td>1417</td>\n",
       "      <td>13.28</td>\n",
       "    </tr>\n",
       "    <tr>\n",
       "      <th>2</th>\n",
       "      <td>A4</td>\n",
       "      <td>1381</td>\n",
       "      <td>12.95</td>\n",
       "    </tr>\n",
       "    <tr>\n",
       "      <th>3</th>\n",
       "      <td>A1</td>\n",
       "      <td>1347</td>\n",
       "      <td>12.63</td>\n",
       "    </tr>\n",
       "    <tr>\n",
       "      <th>4</th>\n",
       "      <td>A5</td>\n",
       "      <td>882</td>\n",
       "      <td>8.27</td>\n",
       "    </tr>\n",
       "    <tr>\n",
       "      <th>5</th>\n",
       "      <td>Q5</td>\n",
       "      <td>877</td>\n",
       "      <td>8.22</td>\n",
       "    </tr>\n",
       "    <tr>\n",
       "      <th>6</th>\n",
       "      <td>Q2</td>\n",
       "      <td>822</td>\n",
       "      <td>7.71</td>\n",
       "    </tr>\n",
       "    <tr>\n",
       "      <th>7</th>\n",
       "      <td>A6</td>\n",
       "      <td>748</td>\n",
       "      <td>7.01</td>\n",
       "    </tr>\n",
       "    <tr>\n",
       "      <th>8</th>\n",
       "      <td>Q7</td>\n",
       "      <td>397</td>\n",
       "      <td>3.72</td>\n",
       "    </tr>\n",
       "    <tr>\n",
       "      <th>9</th>\n",
       "      <td>TT</td>\n",
       "      <td>336</td>\n",
       "      <td>3.15</td>\n",
       "    </tr>\n",
       "    <tr>\n",
       "      <th>10</th>\n",
       "      <td>A7</td>\n",
       "      <td>122</td>\n",
       "      <td>1.14</td>\n",
       "    </tr>\n",
       "    <tr>\n",
       "      <th>11</th>\n",
       "      <td>A8</td>\n",
       "      <td>118</td>\n",
       "      <td>1.11</td>\n",
       "    </tr>\n",
       "    <tr>\n",
       "      <th>12</th>\n",
       "      <td>Q8</td>\n",
       "      <td>69</td>\n",
       "      <td>0.65</td>\n",
       "    </tr>\n",
       "    <tr>\n",
       "      <th>13</th>\n",
       "      <td>RS6</td>\n",
       "      <td>39</td>\n",
       "      <td>0.37</td>\n",
       "    </tr>\n",
       "    <tr>\n",
       "      <th>14</th>\n",
       "      <td>RS3</td>\n",
       "      <td>33</td>\n",
       "      <td>0.31</td>\n",
       "    </tr>\n",
       "    <tr>\n",
       "      <th>15</th>\n",
       "      <td>RS4</td>\n",
       "      <td>31</td>\n",
       "      <td>0.29</td>\n",
       "    </tr>\n",
       "    <tr>\n",
       "      <th>16</th>\n",
       "      <td>RS5</td>\n",
       "      <td>29</td>\n",
       "      <td>0.27</td>\n",
       "    </tr>\n",
       "    <tr>\n",
       "      <th>17</th>\n",
       "      <td>R8</td>\n",
       "      <td>28</td>\n",
       "      <td>0.26</td>\n",
       "    </tr>\n",
       "    <tr>\n",
       "      <th>18</th>\n",
       "      <td>S3</td>\n",
       "      <td>18</td>\n",
       "      <td>0.17</td>\n",
       "    </tr>\n",
       "    <tr>\n",
       "      <th>19</th>\n",
       "      <td>SQ5</td>\n",
       "      <td>16</td>\n",
       "      <td>0.15</td>\n",
       "    </tr>\n",
       "    <tr>\n",
       "      <th>20</th>\n",
       "      <td>S4</td>\n",
       "      <td>12</td>\n",
       "      <td>0.11</td>\n",
       "    </tr>\n",
       "    <tr>\n",
       "      <th>21</th>\n",
       "      <td>SQ7</td>\n",
       "      <td>8</td>\n",
       "      <td>0.07</td>\n",
       "    </tr>\n",
       "    <tr>\n",
       "      <th>22</th>\n",
       "      <td>S8</td>\n",
       "      <td>4</td>\n",
       "      <td>0.04</td>\n",
       "    </tr>\n",
       "    <tr>\n",
       "      <th>23</th>\n",
       "      <td>S5</td>\n",
       "      <td>3</td>\n",
       "      <td>0.03</td>\n",
       "    </tr>\n",
       "    <tr>\n",
       "      <th>24</th>\n",
       "      <td>A2</td>\n",
       "      <td>1</td>\n",
       "      <td>0.01</td>\n",
       "    </tr>\n",
       "    <tr>\n",
       "      <th>25</th>\n",
       "      <td>RS7</td>\n",
       "      <td>1</td>\n",
       "      <td>0.01</td>\n",
       "    </tr>\n",
       "  </tbody>\n",
       "</table>\n",
       "</div>"
      ],
      "text/plain": [
       "   model  No_of_cars  % of cars\n",
       "0     A3        1929      18.08\n",
       "1     Q3        1417      13.28\n",
       "2     A4        1381      12.95\n",
       "3     A1        1347      12.63\n",
       "4     A5         882       8.27\n",
       "5     Q5         877       8.22\n",
       "6     Q2         822       7.71\n",
       "7     A6         748       7.01\n",
       "8     Q7         397       3.72\n",
       "9     TT         336       3.15\n",
       "10    A7         122       1.14\n",
       "11    A8         118       1.11\n",
       "12    Q8          69       0.65\n",
       "13   RS6          39       0.37\n",
       "14   RS3          33       0.31\n",
       "15   RS4          31       0.29\n",
       "16   RS5          29       0.27\n",
       "17    R8          28       0.26\n",
       "18    S3          18       0.17\n",
       "19   SQ5          16       0.15\n",
       "20    S4          12       0.11\n",
       "21   SQ7           8       0.07\n",
       "22    S8           4       0.04\n",
       "23    S5           3       0.03\n",
       "24    A2           1       0.01\n",
       "25   RS7           1       0.01"
      ]
     },
     "metadata": {},
     "output_type": "display_data"
    }
   ],
   "source": [
    "model_count = df['model'].value_counts()\n",
    "# print(type(model_count))\n",
    "\n",
    "model_count = pd.DataFrame(model_count)\n",
    "# display(model_count)\n",
    "\n",
    "model_count = model_count.reset_index()\n",
    "# display(model_count)\n",
    "\n",
    "model_count = model_count.rename(columns={'index':'model', 'model':'No_of_cars'})\n",
    "# display(model_count)\n",
    "\n",
    "# print(model_count['No_of_cars'].sum())\n",
    "\n",
    "model_count['% of cars'] = np.round(((model_count['No_of_cars']/model_count['No_of_cars'].sum())*100), 2)\n",
    "display(model_count)\n",
    "\n",
    "# print(type(model_count))"
   ]
  },
  {
   "cell_type": "code",
   "execution_count": 20,
   "id": "405cb359",
   "metadata": {},
   "outputs": [
    {
     "data": {
      "image/png": "[encoded data removed]",
      "text/plain": [
       "<Figure size 432x288 with 1 Axes>"
      ]
     },
     "metadata": {
      "needs_background": "light"
     },
     "output_type": "display_data"
    }
   ],
   "source": [
    "sns.barplot(x='model', y='No_of_cars', data=model_count, color='green', alpha=0.75)\n",
    "plt.title(\"Number of cars present for each model\")\n",
    "plt.xlabel(\"Audi car models\")\n",
    "plt.ylabel(\"Number of cars\")\n",
    "plt.xticks(rotation=90)\n",
    "plt.show()"
   ]
  },
  {
   "cell_type": "code",
   "execution_count": 23,
   "id": "dca0732d",
   "metadata": {},
   "outputs": [
    {
     "data": {
      "image/png": "[encoded data removed]",
      "text/plain": [
       "<Figure size 1080x360 with 3 Axes>"
      ]
     },
     "metadata": {
      "needs_background": "light"
     },
     "output_type": "display_data"
    }
   ],
   "source": [
    "sns.set_context('paper')\n",
    "\n",
    "plt.figure(figsize=(15,5))\n",
    "\n",
    "plt.subplot(1,3,1)\n",
    "sns.barplot(x='model', y='% of cars', data=model_count, color='blue', alpha=0.75)\n",
    "plt.title(\"Number of cars present for each model\")\n",
    "plt.xlabel(\"Audi car models\")\n",
    "plt.ylabel(\"Percent of cars (%)\")\n",
    "plt.xticks(rotation=90)\n",
    "plt.yticks(np.arange(0,101,10).tolist())\n",
    "\n",
    "plt.subplot(1,3,2)\n",
    "sns.barplot(x='transmission', y='% of cars', data=transmission_count, color='orange')\n",
    "plt.title(\"Number of cars present for each transmission type\")\n",
    "plt.xlabel(\"Type of transmission\")\n",
    "plt.ylabel(\"Percent of cars (%)\")\n",
    "plt.yticks(np.arange(0,101,10).tolist())\n",
    "\n",
    "plt.subplot(1,3,3)\n",
    "sns.barplot(x='fuel_type', y='% of cars', data=fuelType_count, color='green', alpha=0.75)\n",
    "plt.title(\"Number of cars present for each fuelType\")\n",
    "plt.xlabel(\"Type of fuel\")\n",
    "plt.ylabel(\"Percent of cars (%)\")\n",
    "plt.yticks(np.arange(0,101,10).tolist())\n",
    "\n",
    "plt.suptitle(\"Categorical variables in the Audi used cars dataset\")\n",
    "plt.tight_layout()\n",
    "plt.show()"
   ]
  },
  {
   "cell_type": "code",
   "execution_count": 24,
   "id": "cc1ab511",
   "metadata": {},
   "outputs": [],
   "source": [
    "def unique_val_count(data, column):\n",
    "    df_count = df[column].value_counts()\n",
    "    df_count = pd.DataFrame(df_count)\n",
    "    df_count = df_count.reset_index()\n",
    "    df_count = df_count.rename(columns={'index':column, column:'No_of_cars'})\n",
    "    df_count['% of cars'] = np.round(((df_count['No_of_cars']/df_count['No_of_cars'].sum())*100), 2)\n",
    "    \n",
    "    return df_count"
   ]
  },
  {
   "cell_type": "code",
   "execution_count": 25,
   "id": "c3b1709b",
   "metadata": {},
   "outputs": [],
   "source": [
    "model_count = unique_val_count(df, 'model')\n",
    "year_count = unique_val_count(df, 'year')\n",
    "transmission_count = unique_val_count(df, 'transmission')\n",
    "fuelType_count = unique_val_count(df, 'fuelType')"
   ]
  },
  {
   "cell_type": "code",
   "execution_count": 26,
   "id": "42191c4d",
   "metadata": {},
   "outputs": [],
   "source": [
    "# sort the year_count DataFrame based on 'year'\n",
    "year_count = year_count.sort_values(by='year')\n",
    "# year_count"
   ]
  },
  {
   "cell_type": "code",
   "execution_count": 27,
   "id": "623c0ef1",
   "metadata": {},
   "outputs": [],
   "source": [
    "def barplot(data, column_x, color, rotation, yticks):\n",
    "    \n",
    "    # create a barplot using seaborn\n",
    "    sns.barplot(x=column_x, y='% of cars', data=data, color=color, alpha=0.75)\n",
    "    \n",
    "    # write a title for your plot\n",
    "    plt.title(\"Number of cars present for each \" + column_x)\n",
    "    \n",
    "    # write proper lebel for the x and y axis\n",
    "    plt.xlabel(column_x)\n",
    "    plt.ylabel(\"Percent of cars (%)\")\n",
    "    \n",
    "    # rotate the xticks if necessary\n",
    "    plt.xticks(rotation=rotation)\n",
    "    \n",
    "    # provide a range for the yticks\n",
    "    plt.yticks(yticks)"
   ]
  },
  {
   "cell_type": "code",
   "execution_count": 32,
   "id": "2a048f1c",
   "metadata": {},
   "outputs": [
    {
     "data": {
      "image/png": "[encoded data removed]",
      "text/plain": [
       "<Figure size 1080x720 with 4 Axes>"
      ]
     },
     "metadata": {
      "needs_background": "light"
     },
     "output_type": "display_data"
    }
   ],
   "source": [
    "sns.set_context('paper')\n",
    "\n",
    "plt.figure(figsize=(15,10))\n",
    "\n",
    "# (1,1)\n",
    "plt.subplot(2,2,1)\n",
    "barplot(model_count, 'model', 'red', 90, np.arange(0,51,10))\n",
    "\n",
    "# (1,2)\n",
    "plt.subplot(2,2,2)\n",
    "barplot(year_count, 'year', 'blue', 90, np.arange(0,51,10))\n",
    "\n",
    "# (2,1)\n",
    "plt.subplot(2,2,3)\n",
    "barplot(transmission_count, 'transmission', 'orange', 0, np.arange(0,71,10))\n",
    "\n",
    "# (2,2)\n",
    "plt.subplot(2,2,4)\n",
    "barplot(fuelType_count, 'fuelType', 'yellow', 0, np.arange(0,71,10))\n",
    "\n",
    "# title for all the plots\n",
    "plt.suptitle(\"Categorical variables in the Audi used cars dataset\")\n",
    "\n",
    "#  individual plots are separated from each other\n",
    "plt.tight_layout()\n",
    "\n",
    "#  the plots are displayed\n",
    "plt.show()"
   ]
  },
  {
   "cell_type": "code",
   "execution_count": null,
   "id": "c0424045",
   "metadata": {},
   "outputs": [],
   "source": []
  }
 ],
 "metadata": {
  "kernelspec": {
   "display_name": "Python 3",
   "language": "python",
   "name": "python3"
  },
  "language_info": {
   "codemirror_mode": {
    "name": "ipython",
    "version": 3
   },
   "file_extension": ".py",
   "mimetype": "text/x-python",
   "name": "python",
   "nbconvert_exporter": "python",
   "pygments_lexer": "ipython3",
   "version": "3.8.8"
  }
 },
 "nbformat": 4,
 "nbformat_minor": 5
}
